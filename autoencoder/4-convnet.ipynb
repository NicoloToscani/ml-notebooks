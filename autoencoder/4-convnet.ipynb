{
 "cells": [
  {
   "cell_type": "markdown",
   "metadata": {},
   "source": [
    "# CNNs Autoencoder\n",
    "\n",
    "Since an autoencoder is just a way of training a DNN we can use the convolutional and maxpooling layers of a standard DNN. Moreover it may be a good idea since our data are images!\n",
    "\n",
    "The same encoder and decoder layers will be present, only we will not have a `Dense` layer but `Conv2D` and `MaxPooling2D` for the encoder and `UpSampling2D` for the decoder.\n",
    "\n",
    "![](img/autoencoder_schema.jpg)\n",
    "\n",
    "**Standard CNN**\n",
    "![](img/9-cnnarch.png)\n",
    "\n",
    "`Warning: since the dataset is quite easy there will not be major loss differences`"
   ]
  },
  {
   "cell_type": "code",
   "execution_count": 2,
   "metadata": {},
   "outputs": [],
   "source": [
    "import tensorflow\n",
    "\n",
    "from tensorflow.keras.models import Model\n",
    "from tensorflow.keras.layers import Input, Conv2D, MaxPooling2D, UpSampling2D\n",
    "import numpy as np\n",
    "import matplotlib.pyplot as plt"
   ]
  },
  {
   "cell_type": "markdown",
   "metadata": {},
   "source": [
    "Let's create the Model.\n",
    "\n",
    "First: the **input** is now different! It is a 2D array!"
   ]
  },
  {
   "cell_type": "code",
   "execution_count": 3,
   "metadata": {},
   "outputs": [],
   "source": [
    "input_img = Input(shape=(28, 28, 1))  "
   ]
  },
  {
   "cell_type": "markdown",
   "metadata": {},
   "source": [
    "**Encoder**\n",
    "\n",
    "We go down from 28x28 (784) to 8 4x4 (128) dimensions.\n",
    "Padding is used to around the image.\n",
    "\n",
    "![](img/cnn-connections.png)\n",
    "\n",
    "**Conv2D:**\n",
    "* `filters`:  dimensionality of the output space (i.e. the number output of filters in the convolution).\n",
    "* `kernel_size`: width and height of the 2D convolution window\n",
    "\n",
    "**MaxPooling2D:**\n",
    "* `pool_size`:  factors by which to downscale (vertical, horizontal). (2, 2) will halve the input in both spatial dimension\n",
    "\n",
    "**UpSampling2D:**\n",
    "* `size`:   The upsampling factors for rows and columns.\n"
   ]
  },
  {
   "cell_type": "code",
   "execution_count": 4,
   "metadata": {},
   "outputs": [],
   "source": [
    "x = Conv2D(16, (3, 3), activation='relu', padding='same')(input_img)\n",
    "x = MaxPooling2D((2, 2), padding='same')(x)\n",
    "x = Conv2D(8, (3, 3), activation='relu', padding='same')(x)\n",
    "x = MaxPooling2D((2, 2), padding='same')(x)\n",
    "x = Conv2D(8, (3, 3), activation='relu', padding='same')(x)\n",
    "encoded = MaxPooling2D((2, 2), padding='same')(x)"
   ]
  },
  {
   "cell_type": "markdown",
   "metadata": {},
   "source": [
    "Dimensionaly reduction is perfomed by `MaxPooling2D`. \n",
    "\n",
    "Considering only one dimension: 28 -> 14 -> 7 -> 4\n",
    "\n",
    "The **code** representation is (4, 4, 8) i.e. 128-dimensional"
   ]
  },
  {
   "cell_type": "markdown",
   "metadata": {},
   "source": [
    "**Decoder**\n",
    "\n",
    "We go back up to the 28x28 images"
   ]
  },
  {
   "cell_type": "code",
   "execution_count": 5,
   "metadata": {},
   "outputs": [],
   "source": [
    "x = Conv2D(8, (3, 3), activation='relu', padding='same')(encoded)\n",
    "x = UpSampling2D((2, 2))(x)\n",
    "x = Conv2D(8, (3, 3), activation='relu', padding='same')(x)\n",
    "x = UpSampling2D((2, 2))(x)\n",
    "x = Conv2D(16, (3, 3), activation='relu')(x)\n",
    "x = UpSampling2D((2, 2))(x)\n",
    "decoded = Conv2D(1, (3, 3), activation='sigmoid', padding='same')(x)"
   ]
  },
  {
   "cell_type": "markdown",
   "metadata": {},
   "source": [
    "Create the model and compile it"
   ]
  },
  {
   "cell_type": "code",
   "execution_count": 6,
   "metadata": {},
   "outputs": [],
   "source": [
    "autoencoder = Model(input_img, decoded)\n",
    "autoencoder.compile(optimizer='adam', loss='binary_crossentropy')"
   ]
  },
  {
   "cell_type": "markdown",
   "metadata": {},
   "source": [
    "**Data must have a different shape!**"
   ]
  },
  {
   "cell_type": "code",
   "execution_count": 7,
   "metadata": {},
   "outputs": [
    {
     "name": "stdout",
     "output_type": "stream",
     "text": [
      "(60000, 28, 28, 1)\n",
      "(10000, 28, 28, 1)\n"
     ]
    }
   ],
   "source": [
    "from tensorflow.keras.datasets import mnist\n",
    "\n",
    "(x_train, _), (x_test, _) = mnist.load_data()\n",
    "x_train = x_train.astype('float32') / 255.\n",
    "x_test = x_test.astype('float32') / 255.\n",
    "x_train = np.reshape(x_train, (len(x_train), 28, 28, 1))  # adapt this if using `channels_first` image data format\n",
    "x_test = np.reshape(x_test, (len(x_test), 28, 28, 1))  # adapt this if using `channels_first` image data format\n",
    "print(x_train.shape)\n",
    "print(x_test.shape)"
   ]
  },
  {
   "cell_type": "markdown",
   "metadata": {},
   "source": [
    "Training time!\n",
    "(and you will find out CNN are slow!)"
   ]
  },
  {
   "cell_type": "code",
   "execution_count": 8,
   "metadata": {},
   "outputs": [
    {
     "name": "stdout",
     "output_type": "stream",
     "text": [
      "Epoch 1/30\n",
      "235/235 [==============================] - 4s 16ms/step - loss: 0.2767 - val_loss: 0.1603\n",
      "Epoch 2/30\n",
      "235/235 [==============================] - 3s 14ms/step - loss: 0.1479 - val_loss: 0.1380\n",
      "Epoch 3/30\n",
      "235/235 [==============================] - 3s 14ms/step - loss: 0.1335 - val_loss: 0.1290\n",
      "Epoch 4/30\n",
      "235/235 [==============================] - 3s 14ms/step - loss: 0.1266 - val_loss: 0.1226\n",
      "Epoch 5/30\n",
      "235/235 [==============================] - 3s 14ms/step - loss: 0.1220 - val_loss: 0.1190\n",
      "Epoch 6/30\n",
      "235/235 [==============================] - 3s 15ms/step - loss: 0.1186 - val_loss: 0.1162\n",
      "Epoch 7/30\n",
      "235/235 [==============================] - 3s 14ms/step - loss: 0.1161 - val_loss: 0.1138\n",
      "Epoch 8/30\n",
      "235/235 [==============================] - 3s 14ms/step - loss: 0.1141 - val_loss: 0.1119\n",
      "Epoch 9/30\n",
      "235/235 [==============================] - 3s 14ms/step - loss: 0.1124 - val_loss: 0.1105\n",
      "Epoch 10/30\n",
      "235/235 [==============================] - 3s 14ms/step - loss: 0.1110 - val_loss: 0.1091\n",
      "Epoch 11/30\n",
      "235/235 [==============================] - 3s 14ms/step - loss: 0.1098 - val_loss: 0.1084\n",
      "Epoch 12/30\n",
      "235/235 [==============================] - 3s 14ms/step - loss: 0.1089 - val_loss: 0.1072\n",
      "Epoch 13/30\n",
      "235/235 [==============================] - 3s 14ms/step - loss: 0.1080 - val_loss: 0.1067\n",
      "Epoch 14/30\n",
      "235/235 [==============================] - 3s 14ms/step - loss: 0.1072 - val_loss: 0.1056\n",
      "Epoch 15/30\n",
      "235/235 [==============================] - 3s 14ms/step - loss: 0.1065 - val_loss: 0.1052\n",
      "Epoch 16/30\n",
      "235/235 [==============================] - 3s 14ms/step - loss: 0.1059 - val_loss: 0.1044\n",
      "Epoch 17/30\n",
      "235/235 [==============================] - 3s 14ms/step - loss: 0.1053 - val_loss: 0.1038\n",
      "Epoch 18/30\n",
      "235/235 [==============================] - 3s 14ms/step - loss: 0.1048 - val_loss: 0.1033\n",
      "Epoch 19/30\n",
      "235/235 [==============================] - 3s 14ms/step - loss: 0.1043 - val_loss: 0.1032\n",
      "Epoch 20/30\n",
      "235/235 [==============================] - 3s 14ms/step - loss: 0.1038 - val_loss: 0.1025\n",
      "Epoch 21/30\n",
      "235/235 [==============================] - 3s 14ms/step - loss: 0.1033 - val_loss: 0.1024\n",
      "Epoch 22/30\n",
      "235/235 [==============================] - 3s 14ms/step - loss: 0.1030 - val_loss: 0.1015\n",
      "Epoch 23/30\n",
      "235/235 [==============================] - 3s 14ms/step - loss: 0.1025 - val_loss: 0.1012\n",
      "Epoch 24/30\n",
      "235/235 [==============================] - 3s 14ms/step - loss: 0.1022 - val_loss: 0.1008\n",
      "Epoch 25/30\n",
      "235/235 [==============================] - 3s 14ms/step - loss: 0.1019 - val_loss: 0.1007\n",
      "Epoch 26/30\n",
      "235/235 [==============================] - 3s 14ms/step - loss: 0.1015 - val_loss: 0.1004\n",
      "Epoch 27/30\n",
      "235/235 [==============================] - 3s 14ms/step - loss: 0.1012 - val_loss: 0.1000\n",
      "Epoch 28/30\n",
      "235/235 [==============================] - 3s 14ms/step - loss: 0.1010 - val_loss: 0.0997\n",
      "Epoch 29/30\n",
      "235/235 [==============================] - 3s 14ms/step - loss: 0.1007 - val_loss: 0.0993\n",
      "Epoch 30/30\n",
      "235/235 [==============================] - 3s 14ms/step - loss: 0.1004 - val_loss: 0.0992\n"
     ]
    },
    {
     "data": {
      "text/plain": [
       "<tensorflow.python.keras.callbacks.History at 0x7f437001c9b0>"
      ]
     },
     "execution_count": 8,
     "metadata": {},
     "output_type": "execute_result"
    }
   ],
   "source": [
    "autoencoder.fit(x_train, x_train,\n",
    "                epochs=30,\n",
    "                batch_size=256,\n",
    "                shuffle=True,\n",
    "                validation_data=(x_test, x_test))"
   ]
  },
  {
   "cell_type": "markdown",
   "metadata": {},
   "source": [
    "To use the model we can use `predict` on the `autoencoder` fitted Model"
   ]
  },
  {
   "cell_type": "code",
   "execution_count": 9,
   "metadata": {},
   "outputs": [],
   "source": [
    "decoded_imgs = autoencoder.predict(x_test)"
   ]
  },
  {
   "cell_type": "markdown",
   "metadata": {},
   "source": [
    "And now plot the results with the same code"
   ]
  },
  {
   "cell_type": "code",
   "execution_count": 10,
   "metadata": {},
   "outputs": [
    {
     "data": {
      "image/png": "[encoded data removed]",
      "text/plain": [
       "<Figure size 1440x288 with 20 Axes>"
      ]
     },
     "metadata": {
      "needs_background": "light"
     },
     "output_type": "display_data"
    }
   ],
   "source": [
    "n = 10  # how many digits we will display\n",
    "plt.figure(figsize=(20, 4))\n",
    "for i in range(n):\n",
    "    # display original\n",
    "    ax = plt.subplot(2, n, i + 1)\n",
    "    plt.imshow(x_test[i].reshape(28, 28))\n",
    "    plt.gray()\n",
    "    ax.get_xaxis().set_visible(False)\n",
    "    ax.get_yaxis().set_visible(False)\n",
    "\n",
    "    # display reconstruction\n",
    "    ax = plt.subplot(2, n, i + 1 + n)\n",
    "    plt.imshow(decoded_imgs[i].reshape(28, 28))\n",
    "    plt.gray()\n",
    "    ax.get_xaxis().set_visible(False)\n",
    "    ax.get_yaxis().set_visible(False)\n",
    "plt.show()"
   ]
  },
  {
   "cell_type": "code",
   "execution_count": null,
   "metadata": {},
   "outputs": [],
   "source": []
  }
 ],
 "metadata": {
  "kernelspec": {
   "display_name": "Python 3",
   "language": "python",
   "name": "python3"
  },
  "language_info": {
   "codemirror_mode": {
    "name": "ipython",
    "version": 3
   },
   "file_extension": ".py",
   "mimetype": "text/x-python",
   "name": "python",
   "nbconvert_exporter": "python",
   "pygments_lexer": "ipython3",
   "version": "3.5.2"
  }
 },
 "nbformat": 4,
 "nbformat_minor": 2
}
