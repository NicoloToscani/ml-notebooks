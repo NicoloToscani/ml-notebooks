{
 "cells": [
  {
   "cell_type": "markdown",
   "metadata": {},
   "source": [
    "# Setup check"
   ]
  },
  {
   "cell_type": "markdown",
   "metadata": {},
   "source": [
    "*You should have received a tf-setup-check.py*\n",
    "\n",
    "Requirements: Ubuntu 16.04\n",
    "\n",
    "Please execute the following commands in a shell to install all the needed dependencies after that, execute this file: `python3 tf-setup-check.py`\n",
    "\n",
    "\n",
    "Use apt to install and then remove numpy and matplotlib so we can have all the dependencies, then we install them using pip3 for the latest version\n",
    "\n",
    "`sudo apt install python3 python3-pip python3-numpy python3-matplotlib`\n",
    "\n",
    "`sudo apt remove python3-numpy python3-matplotlib`\n",
    "\n",
    "\n",
    "`sudo pip3 install --upgrade pip`\n",
    "\n",
    "`sudo pip3 install numpy matplotlib`\n",
    "\n",
    "`sudo pip3 install tensorflow`\n",
    "\n",
    "optional:\n",
    "`sudo pip3 install jupyter`\n",
    "\n",
    "Install your favorite code editor!\n",
    "\n",
    "\n",
    "For other OS please install the same packages.\n",
    "Have a look at Conda https://conda.io/docs/user-guide/install/windows.html and follow the following guide: https://www.tensorflow.org/install/\n",
    "\n"
   ]
  },
  {
   "cell_type": "code",
   "execution_count": null,
   "metadata": {},
   "outputs": [],
   "source": []
  },
  {
   "cell_type": "code",
   "execution_count": 2,
   "metadata": {},
   "outputs": [
    {
     "name": "stdout",
     "output_type": "stream",
     "text": [
      "tensorflow 2.3.1\n",
      "keras 2.4.0\n",
      "caching data from mnist dataset\n",
      "\n",
      "All OK\n"
     ]
    }
   ],
   "source": [
    "import tensorflow\n",
    "print(\"tensorflow\", tensorflow.__version__)\n",
    "\n",
    "from tensorflow import keras\n",
    "print(\"keras\", keras.__version__)\n",
    "\n",
    "from tensorflow.keras.datasets import mnist\n",
    "print(\"caching data from mnist dataset\")\n",
    "(x_train, _), (x_test, _) = mnist.load_data()\n",
    "\n",
    "print()\n",
    "print(\"All OK\")"
   ]
  },
  {
   "cell_type": "code",
   "execution_count": null,
   "metadata": {},
   "outputs": [],
   "source": []
  }
 ],
 "metadata": {
  "kernelspec": {
   "display_name": "Python 2",
   "language": "python",
   "name": "python2"
  },
  "language_info": {
   "codemirror_mode": {
    "name": "ipython",
    "version": 3
   },
   "file_extension": ".py",
   "mimetype": "text/x-python",
   "name": "python",
   "nbconvert_exporter": "python",
   "pygments_lexer": "ipython3",
   "version": "3.5.2"
  }
 },
 "nbformat": 4,
 "nbformat_minor": 2
}
