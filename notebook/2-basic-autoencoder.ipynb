{
 "cells": [
  {
   "cell_type": "markdown",
   "metadata": {},
   "source": [
    "# Basic Autoencoder\n",
    "\n",
    "1 encoding layer <-> 1 decoding layer\n",
    "\n",
    "784 -> 32 -> 784\n",
    "![](img/autoencoder_schema.jpg)"
   ]
  },
  {
   "cell_type": "code",
   "execution_count": 1,
   "metadata": {},
   "outputs": [],
   "source": [
    "import tensorflow\n",
    "\n",
    "from tensorflow.keras.models import Model\n",
    "from tensorflow.keras.layers import Dense, Input\n",
    "import numpy as np\n",
    "import matplotlib.pyplot as plt"
   ]
  },
  {
   "cell_type": "markdown",
   "metadata": {},
   "source": [
    "Input and output dimensons depends on data, while the code dimension is a parameter."
   ]
  },
  {
   "cell_type": "code",
   "execution_count": 2,
   "metadata": {},
   "outputs": [],
   "source": [
    "encoding_dim = 32  # 32 floats -> compression of factor 24.5, assuming the input is 784 floats#"
   ]
  },
  {
   "cell_type": "markdown",
   "metadata": {},
   "source": [
    "Let's create the autoencoder model!"
   ]
  },
  {
   "cell_type": "code",
   "execution_count": 3,
   "metadata": {},
   "outputs": [],
   "source": [
    "# this is our input placeholder\n",
    "input_img = Input(shape=(784,))\n",
    "\n",
    "# \"encoded\" is the encoded representation of the input\n",
    "encoded = Dense(encoding_dim, activation='relu')(input_img)\n",
    "\n",
    "# \"decoded\" is the lossy reconstruction of the input\n",
    "decoded = Dense(784, activation='sigmoid')(encoded)\n",
    "\n",
    "# this model maps an input to its reconstruction\n",
    "autoencoder = Model(input_img, decoded)"
   ]
  },
  {
   "cell_type": "markdown",
   "metadata": {},
   "source": [
    "We can also get intermediate results from the encoding and decoding layers"
   ]
  },
  {
   "cell_type": "code",
   "execution_count": 4,
   "metadata": {},
   "outputs": [],
   "source": [
    "# this model maps an input to its encoded representation\n",
    "encoder = Model(input_img, encoded)\n",
    "\n",
    "# create a placeholder for an encoded (32-dimensional) input\n",
    "encoded_input = Input(shape=(encoding_dim,))\n",
    "\n",
    "# retrieve the last layer of the autoencoder model\n",
    "decoder_layer = autoencoder.layers[-1]\n",
    "\n",
    "# create the decoder model\n",
    "decoder = Model(encoded_input, decoder_layer(encoded_input))"
   ]
  },
  {
   "cell_type": "markdown",
   "metadata": {},
   "source": [
    "Now we can just \"compile\" the autoencoder setting the optimizer and loss functions"
   ]
  },
  {
   "cell_type": "code",
   "execution_count": 5,
   "metadata": {},
   "outputs": [],
   "source": [
    "autoencoder.compile(optimizer='adam', loss='binary_crossentropy')"
   ]
  },
  {
   "cell_type": "markdown",
   "metadata": {},
   "source": [
    "Now we import the dataset"
   ]
  },
  {
   "cell_type": "code",
   "execution_count": 6,
   "metadata": {},
   "outputs": [],
   "source": [
    "from tensorflow.python.keras.datasets import mnist\n",
    "\n",
    "(x_train, _), (x_test, _) = mnist.load_data()\n",
    "x_train = x_train.astype('float32') / 255.\n",
    "x_test = x_test.astype('float32') / 255.\n",
    "x_train = x_train.reshape((len(x_train), np.prod(x_train.shape[1:])))\n",
    "x_test = x_test.reshape((len(x_test), np.prod(x_test.shape[1:])))"
   ]
  },
  {
   "cell_type": "markdown",
   "metadata": {},
   "source": [
    "And we can start the training.\n",
    "Arguments:\n",
    "* `x,y`:input and output are the same since we want to compress and reconstruct\n",
    "* `epochs`: Number of epochs to train the model. An epoch is an iteration over the entire data provided\n",
    "* `batch_size`:  Number of samples per gradient update\n",
    "* `shuffle`: shuffle data every epoch\n",
    "* `validation_data`: evaluate the loss at the end of each epoch. **The model will not be trained on this data.**"
   ]
  },
  {
   "cell_type": "code",
   "execution_count": 7,
   "metadata": {
    "scrolled": true
   },
   "outputs": [
    {
     "name": "stdout",
     "output_type": "stream",
     "text": [
      "Epoch 1/30\n",
      "235/235 [==============================] - 1s 3ms/step - loss: 0.2769 - val_loss: 0.1916\n",
      "Epoch 2/30\n",
      "235/235 [==============================] - 1s 2ms/step - loss: 0.1723 - val_loss: 0.1555\n",
      "Epoch 3/30\n",
      "235/235 [==============================] - 1s 2ms/step - loss: 0.1466 - val_loss: 0.1358\n",
      "Epoch 4/30\n",
      "235/235 [==============================] - 1s 2ms/step - loss: 0.1302 - val_loss: 0.1223\n",
      "Epoch 5/30\n",
      "235/235 [==============================] - 1s 2ms/step - loss: 0.1191 - val_loss: 0.1134\n",
      "Epoch 6/30\n",
      "235/235 [==============================] - 1s 2ms/step - loss: 0.1116 - val_loss: 0.1074\n",
      "Epoch 7/30\n",
      "235/235 [==============================] - 1s 2ms/step - loss: 0.1063 - val_loss: 0.1029\n",
      "Epoch 8/30\n",
      "235/235 [==============================] - 1s 2ms/step - loss: 0.1024 - val_loss: 0.0996\n",
      "Epoch 9/30\n",
      "235/235 [==============================] - 1s 2ms/step - loss: 0.0996 - val_loss: 0.0972\n",
      "Epoch 10/30\n",
      "235/235 [==============================] - 1s 2ms/step - loss: 0.0976 - val_loss: 0.0955\n",
      "Epoch 11/30\n",
      "235/235 [==============================] - 1s 2ms/step - loss: 0.0963 - val_loss: 0.0945\n",
      "Epoch 12/30\n",
      "235/235 [==============================] - 1s 2ms/step - loss: 0.0954 - val_loss: 0.0938\n",
      "Epoch 13/30\n",
      "235/235 [==============================] - 1s 2ms/step - loss: 0.0949 - val_loss: 0.0935\n",
      "Epoch 14/30\n",
      "235/235 [==============================] - 1s 2ms/step - loss: 0.0945 - val_loss: 0.0931\n",
      "Epoch 15/30\n",
      "235/235 [==============================] - 1s 2ms/step - loss: 0.0942 - val_loss: 0.0929\n",
      "Epoch 16/30\n",
      "235/235 [==============================] - 1s 2ms/step - loss: 0.0940 - val_loss: 0.0927\n",
      "Epoch 17/30\n",
      "235/235 [==============================] - 1s 2ms/step - loss: 0.0938 - val_loss: 0.0926\n",
      "Epoch 18/30\n",
      "235/235 [==============================] - 1s 2ms/step - loss: 0.0937 - val_loss: 0.0924\n",
      "Epoch 19/30\n",
      "235/235 [==============================] - 1s 2ms/step - loss: 0.0936 - val_loss: 0.0923\n",
      "Epoch 20/30\n",
      "235/235 [==============================] - 1s 2ms/step - loss: 0.0935 - val_loss: 0.0923\n",
      "Epoch 21/30\n",
      "235/235 [==============================] - 1s 2ms/step - loss: 0.0934 - val_loss: 0.0922\n",
      "Epoch 22/30\n",
      "235/235 [==============================] - 1s 2ms/step - loss: 0.0933 - val_loss: 0.0921\n",
      "Epoch 23/30\n",
      "235/235 [==============================] - 1s 2ms/step - loss: 0.0933 - val_loss: 0.0920\n",
      "Epoch 24/30\n",
      "235/235 [==============================] - 1s 4ms/step - loss: 0.0932 - val_loss: 0.0920\n",
      "Epoch 25/30\n",
      "235/235 [==============================] - 1s 3ms/step - loss: 0.0932 - val_loss: 0.0920\n",
      "Epoch 26/30\n",
      "235/235 [==============================] - 1s 3ms/step - loss: 0.0931 - val_loss: 0.0919\n",
      "Epoch 27/30\n",
      "235/235 [==============================] - 1s 3ms/step - loss: 0.0931 - val_loss: 0.0919\n",
      "Epoch 28/30\n",
      "235/235 [==============================] - 1s 2ms/step - loss: 0.0930 - val_loss: 0.0919\n",
      "Epoch 29/30\n",
      "235/235 [==============================] - 1s 3ms/step - loss: 0.0930 - val_loss: 0.0919\n",
      "Epoch 30/30\n",
      "235/235 [==============================] - 1s 2ms/step - loss: 0.0930 - val_loss: 0.0919\n"
     ]
    },
    {
     "data": {
      "text/plain": [
       "<tensorflow.python.keras.callbacks.History at 0x7faa106e45f8>"
      ]
     },
     "execution_count": 7,
     "metadata": {},
     "output_type": "execute_result"
    }
   ],
   "source": [
    "autoencoder.fit(x_train, x_train,\n",
    "                epochs=30,\n",
    "                batch_size=256,\n",
    "                shuffle=True,\n",
    "                validation_data=(x_test, x_test))"
   ]
  },
  {
   "cell_type": "markdown",
   "metadata": {},
   "source": [
    "The autoencoder has been trained. Now we can `predict` some digits from the test set. We use the intermediate `encoder` and `decoder` created above"
   ]
  },
  {
   "cell_type": "code",
   "execution_count": 8,
   "metadata": {},
   "outputs": [],
   "source": [
    "encoded_imgs = encoder.predict(x_test)\n",
    "decoded_imgs = decoder.predict(encoded_imgs)\n",
    "\n",
    "\n",
    "decoded_imgs = autoencoder.predict(x_test)"
   ]
  },
  {
   "cell_type": "markdown",
   "metadata": {},
   "source": [
    "And now let's plot the original versus the reconstructed ones"
   ]
  },
  {
   "cell_type": "code",
   "execution_count": 9,
   "metadata": {},
   "outputs": [
    {
     "data": {
      "image/png": "[encoded data removed]",
      "text/plain": [
       "<Figure size 1440x288 with 20 Axes>"
      ]
     },
     "metadata": {
      "needs_background": "light"
     },
     "output_type": "display_data"
    }
   ],
   "source": [
    "n = 10  # how many digits we will display\n",
    "plt.figure(figsize=(20, 4))\n",
    "for i in range(n):\n",
    "    # display original\n",
    "    ax = plt.subplot(2, n, i + 1)\n",
    "    plt.imshow(x_test[i].reshape(28, 28))\n",
    "    plt.gray()\n",
    "    ax.get_xaxis().set_visible(False)\n",
    "    ax.get_yaxis().set_visible(False)\n",
    "\n",
    "    # display reconstruction\n",
    "    ax = plt.subplot(2, n, i + 1 + n)\n",
    "    plt.imshow(decoded_imgs[i].reshape(28, 28))\n",
    "    plt.gray()\n",
    "    ax.get_xaxis().set_visible(False)\n",
    "    ax.get_yaxis().set_visible(False)\n",
    "plt.show()"
   ]
  },
  {
   "cell_type": "markdown",
   "metadata": {},
   "source": [
    "Now we can try to increase the number of `epochs` in the `fit` function to see the results when the epoch number is increased or decreased.\n",
    "Or change the optimizer from `adagrad` to the best-in-class `adam`"
   ]
  },
  {
   "cell_type": "code",
   "execution_count": null,
   "metadata": {},
   "outputs": [],
   "source": []
  },
  {
   "cell_type": "code",
   "execution_count": null,
   "metadata": {},
   "outputs": [],
   "source": []
  },
  {
   "cell_type": "code",
   "execution_count": null,
   "metadata": {},
   "outputs": [],
   "source": []
  }
 ],
 "metadata": {
  "kernelspec": {
   "display_name": "Python 3",
   "language": "python",
   "name": "python3"
  },
  "language_info": {
   "codemirror_mode": {
    "name": "ipython",
    "version": 3
   },
   "file_extension": ".py",
   "mimetype": "text/x-python",
   "name": "python",
   "nbconvert_exporter": "python",
   "pygments_lexer": "ipython3",
   "version": "3.5.2"
  }
 },
 "nbformat": 4,
 "nbformat_minor": 2
}
